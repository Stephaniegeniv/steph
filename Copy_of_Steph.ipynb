{
  "nbformat": 4,
  "nbformat_minor": 0,
  "metadata": {
    "colab": {
      "name": "Copy of Steph",
      "provenance": [],
      "authorship_tag": "ABX9TyODhiyMhFhBEDtUnFsjY9Aa"
    },
    "kernelspec": {
      "name": "python3",
      "display_name": "Python 3"
    }
  },
  "cells": [
    {
      "cell_type": "code",
      "metadata": {
        "id": "GYX-mLSexuBP",
        "colab_type": "code",
        "colab": {}
      },
      "source": [
        "#Q5\n",
        " \n",
        "Skew_value = data[fuel_quantity_burned].skew ()\n",
        " \n",
        "Kurt_value= data[fuel_quantity_burned].kurtosis()\n",
        " \n",
        "print (skew_value):{1:2f} kurt_value:{1:2f}.format skew value"
      ],
      "execution_count": null,
      "outputs": []
    },
    {
      "cell_type": "code",
      "metadata": {
        "id": "0i5PAZanzYK7",
        "colab_type": "code",
        "colab": {}
      },
      "source": [
        "#6\n",
        " \n",
        "for i in data.\n",
        "if data ['{}'. format (i). isnull{}.any\n",
        "print (feature : {}, total : {} percent {`:3f} format i"
      ],
      "execution_count": null,
      "outputs": []
    },
    {
      "cell_type": "code",
      "metadata": {
        "id": "nUnvPgs60-QE",
        "colab_type": "code",
        "colab": {}
      },
      "source": [
        "#7\n",
        "print type:{}, imputation:{}.format data[fue_unit].data, [fuel_unit].mode)))"
      ],
      "execution_count": null,
      "outputs": []
    },
    {
      "cell_type": "code",
      "metadata": {
        "id": "TDzWz3zc2W42",
        "colab_type": "code",
        "colab": {}
      },
      "source": [
        "#8\n",
        "data.corr{}[fuel_cost_per_unit_burned\"]\n",
        "#fuel_qty_burned\n",
        "#fuel_mmbtu_per_unit"
      ],
      "execution_count": null,
      "outputs": []
    },
    {
      "cell_type": "code",
      "metadata": {
        "id": "OGdJ6xmj2_l-",
        "colab_type": "code",
        "colab": {}
      },
      "source": [
        "#9\n",
        "coal_fuel_pct_change=data.groupby ([fuel_type_pudl1, 'report_year' [fuel_cost_unit_burned]\n",
        " \n",
        "for k,v in dict (coal_fuel_pct_change).items{}:\n",
        "if k==1994 or k==1998\n",
        "print {year}, {percentage_change}"
      ],
      "execution_count": null,
      "outputs": []
    },
    {
      "cell_type": "code",
      "metadata": {
        "id": "xKZx-EpM3vDK",
        "colab_type": "code",
        "colab": {}
      },
      "source": [
        "#10\n",
        "data.groupby('report_year')[fuel_cost_per_unit_delivered].mean{}"
      ],
      "execution_count": null,
      "outputs": []
    }
  ]
}